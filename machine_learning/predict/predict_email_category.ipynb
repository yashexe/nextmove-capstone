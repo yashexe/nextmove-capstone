{
 "cells": [
  {
   "cell_type": "markdown",
   "metadata": {},
   "source": [
    "### Imports & Function Definitions"
   ]
  },
  {
   "cell_type": "code",
   "execution_count": 2,
   "metadata": {},
   "outputs": [],
   "source": [
    "import os\n",
    "import pickle\n",
    "\n",
    "# Change directory to project root\n",
    "os.chdir(\"../../\")\n",
    "\n",
    "# Function to load model and vectorizer\n",
    "def load_model_and_vectorizer(model_path, vectorizer_path):\n",
    "    with open(model_path, \"rb\") as model_file:\n",
    "        model = pickle.load(model_file)\n",
    "    with open(vectorizer_path, \"rb\") as vec_file:\n",
    "        vectorizer = pickle.load(vec_file)\n",
    "    return model, vectorizer\n"
   ]
  },
  {
   "cell_type": "markdown",
   "metadata": {},
   "source": [
    "### Model Loading"
   ]
  },
  {
   "cell_type": "code",
   "execution_count": 3,
   "metadata": {},
   "outputs": [
    {
     "name": "stdout",
     "output_type": "stream",
     "text": [
      "All models and vectorizer loaded successfully.\n"
     ]
    }
   ],
   "source": [
    "from transformers import DistilBertTokenizer, DistilBertForSequenceClassification\n",
    "import torch\n",
    "\n",
    "# Paths (replace these with your config.yaml paths if applicable)\n",
    "vectorizer_path = \"machine_learning/models/tfidf_vectorizer.pkl\"\n",
    "\n",
    "logistic_model_path = \"machine_learning/models/logistic_regression.pkl\"\n",
    "naive_bayes_model_path = \"machine_learning/models/naive_bayes.pkl\"\n",
    "svm_model_path = \"machine_learning/models/svm.pkl\"\n",
    "\n",
    "distilbert_model_path = \"machine_learning/models/distilbert/checkpoints/checkpoint-300\"\n",
    "distilbert_tokenizer_path = \"machine_learning/models/distilbert/tokenizer\"\n",
    "\n",
    "\n",
    "# Load all models and vectorizer\n",
    "device = torch.device(\"cuda\" if torch.cuda.is_available() else \"cpu\")\n",
    "\n",
    "logistic_model, vectorizer = load_model_and_vectorizer(logistic_model_path, vectorizer_path)\n",
    "naive_bayes_model, _ = load_model_and_vectorizer(naive_bayes_model_path, vectorizer_path)\n",
    "svm_model, _ = load_model_and_vectorizer(svm_model_path, vectorizer_path)\n",
    "distilbert_model = DistilBertForSequenceClassification.from_pretrained(distilbert_model_path).to(device)\n",
    "distilbert_tokenizer = DistilBertTokenizer.from_pretrained(distilbert_tokenizer_path)\n",
    "\n",
    "print(\"All models and vectorizer loaded successfully.\")"
   ]
  },
  {
   "cell_type": "markdown",
   "metadata": {},
   "source": [
    "### Define Prediction Function"
   ]
  },
  {
   "cell_type": "code",
   "execution_count": 5,
   "metadata": {},
   "outputs": [],
   "source": [
    "def predict_category(email_content, model, vectorizer):\n",
    "    \"\"\"\n",
    "    Predict the category of an email using the given model and vectorizer.\n",
    "    \n",
    "    Args:\n",
    "        email_content (str): The email content to predict.\n",
    "        model: Trained classification model.\n",
    "        vectorizer: Pre-trained TF-IDF vectorizer.\n",
    "    \n",
    "    Returns:\n",
    "        str: Predicted category.\n",
    "    \"\"\"\n",
    "    email_tfidf = vectorizer.transform([email_content])\n",
    "    return model.predict(email_tfidf)[0]\n",
    "\n",
    "def predict_category_distilbert(email_content, model, tokenizer):\n",
    "    \"\"\"\n",
    "    Predict the category of an email using DistilBERT.\n",
    "    \n",
    "    Args:\n",
    "        email_content (str): The email content to predict.\n",
    "        model: Fine-tuned DistilBERT model.\n",
    "        tokenizer: Tokenizer for DistilBERT.\n",
    "    \n",
    "    Returns:\n",
    "        str: Predicted category.\n",
    "    \"\"\"\n",
    "    model.eval()\n",
    "    inputs = tokenizer(\n",
    "        email_content,\n",
    "        truncation=True,\n",
    "        padding=True,\n",
    "        max_length=512,\n",
    "        return_tensors=\"pt\"\n",
    "    ).to(device)\n",
    "\n",
    "    with torch.no_grad():\n",
    "        outputs = model(**inputs)\n",
    "        predicted_class = torch.argmax(outputs.logits, dim=1).cpu().item()\n",
    "\n",
    "    # Map predicted class to category (adjust mapping to your dataset)\n",
    "    label_mapping = {0: \"Work\", 1: \"Personal\", 2: \"Promotional\", 3: \"Urgent\"}\n",
    "    return label_mapping[predicted_class]\n"
   ]
  },
  {
   "cell_type": "markdown",
   "metadata": {},
   "source": [
    "### Test the Prediction"
   ]
  },
  {
   "cell_type": "code",
   "execution_count": 6,
   "metadata": {},
   "outputs": [
    {
     "name": "stdout",
     "output_type": "stream",
     "text": [
      "Logistic Regression Prediction: Urgent\n",
      "Naive Bayes Prediction: Urgent\n",
      "SVM Prediction: Urgent\n",
      "DistilBERT Prediction: Urgent\n"
     ]
    }
   ],
   "source": [
    "# Example email\n",
    "example_email = '''\n",
    "    Your Roblox Assesment will expire in 24 hrs! You must complete it as soon as possible!\n",
    "    '''\n",
    "\n",
    "# Predict using Logistic Regression\n",
    "logistic_prediction = predict_category(example_email, logistic_model, vectorizer)\n",
    "print(f\"Logistic Regression Prediction: {logistic_prediction}\")\n",
    "\n",
    "# Predict using Naive Bayes\n",
    "naive_bayes_prediction = predict_category(example_email, naive_bayes_model, vectorizer)\n",
    "print(f\"Naive Bayes Prediction: {naive_bayes_prediction}\")\n",
    "\n",
    "# Predict using SVM\n",
    "svm_prediction = predict_category(example_email, svm_model, vectorizer)\n",
    "print(f\"SVM Prediction: {svm_prediction}\")\n",
    "\n",
    "# Predict using DistilBERT\n",
    "distilbert_prediction = predict_category_distilbert(example_email, distilbert_model, distilbert_tokenizer)\n",
    "print(f\"DistilBERT Prediction: {distilbert_prediction}\")"
   ]
  },
  {
   "cell_type": "markdown",
   "metadata": {},
   "source": [
    "### Interactive Predictions"
   ]
  },
  {
   "cell_type": "code",
   "execution_count": 5,
   "metadata": {},
   "outputs": [
    {
     "name": "stdout",
     "output_type": "stream",
     "text": [
      "Exiting...\n"
     ]
    }
   ],
   "source": [
    "# Interactive loop for predictions\n",
    "while True:\n",
    "    email_content = input(\"Enter an email to predict its category (or type 'exit' to quit): \")\n",
    "    if email_content.lower() == \"exit\":\n",
    "        print(\"Exiting...\")\n",
    "        break\n",
    "    print(\"Predictions:\")\n",
    "    print(f\"  Logistic Regression: {predict_category(email_content, logistic_model, vectorizer)}\")\n",
    "    print(f\"  Naive Bayes: {predict_category(email_content, naive_bayes_model, vectorizer)}\")\n",
    "    print(f\"  SVM: {predict_category(email_content, svm_model, vectorizer)}\")\n",
    "    print(f\"  DistilBERT: {predict_category_distilbert(email_content, distilbert_model, distilbert_tokenizer)}\")\n",
    "    print()\n"
   ]
  }
 ],
 "metadata": {
  "kernelspec": {
   "display_name": "venv",
   "language": "python",
   "name": "python3"
  },
  "language_info": {
   "codemirror_mode": {
    "name": "ipython",
    "version": 3
   },
   "file_extension": ".py",
   "mimetype": "text/x-python",
   "name": "python",
   "nbconvert_exporter": "python",
   "pygments_lexer": "ipython3",
   "version": "3.8.10"
  }
 },
 "nbformat": 4,
 "nbformat_minor": 2
}
